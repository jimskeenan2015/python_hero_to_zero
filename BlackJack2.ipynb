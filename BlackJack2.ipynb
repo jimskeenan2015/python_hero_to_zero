{
 "cells": [
  {
   "cell_type": "code",
   "execution_count": 1,
   "metadata": {
    "collapsed": false
   },
   "outputs": [],
   "source": [
    "#Define card class\n",
    "\n",
    "class Card(object):\n",
    "    def __init__(self,suite,cardName,cardValue,dealt=False):\n",
    "        self.suite=suite\n",
    "        self.cardName=cardName\n",
    "        self.cardValue=cardValue\n",
    "        self.dealt=dealt\n",
    "        \n",
    "        print('New Card')\n",
    "        \n",
    "    def getSuite(self):\n",
    "        return self.suite\n",
    "    \n",
    "    def setSuite(self,suite):\n",
    "        self.suite=suite\n",
    "        \n",
    "    def getCardName(self):\n",
    "        return self.cardName\n",
    "    \n",
    "    def getCardValue(self):\n",
    "        return self.cardValue\n",
    "    \n",
    "    def getDealt(self):\n",
    "        return self.dealt\n",
    "    \n",
    "    def setDealt(self,dealt=True):\n",
    "        self.dealt=dealt\n",
    "        "
   ]
  },
  {
   "cell_type": "code",
   "execution_count": 10,
   "metadata": {
    "collapsed": false
   },
   "outputs": [],
   "source": [
    "def onePlayerTable():\n",
    "    \n",
    "        \n",
    "        \n",
    "        print('___________________________________________________________________________________')\n",
    "        print('|                                                                                  |')\n",
    "        print('| Player One Hand: Hand[0], Hand[1]   State:In Play, Bust, Blackjack - Win!, Win   |')\n",
    "        print('|__________________________________________________________________________________|')\n",
    "        print('___________________________________________________________________________________')\n",
    "        print('|                                                                                  |')\n",
    "        print('| Dealer Hand: Hand[0], Hand[1].Hidden()                                           |')\n",
    "        print('|__________________________________________________________________________________|')\n"
   ]
  },
  {
   "cell_type": "code",
   "execution_count": 12,
   "metadata": {
    "collapsed": false
   },
   "outputs": [
    {
     "name": "stdout",
     "output_type": "stream",
     "text": [
      "___________________________________________________________________________________\n",
      "|                                                                                  |\n",
      "| Player One Hand: Hand[0], Hand[1]   State:In Play, Bust, Blackjack - Win!, Win   |\n",
      "|__________________________________________________________________________________|\n",
      "___________________________________________________________________________________\n",
      "|                                                                                  |\n",
      "| Dealer Hand: Hand[0], Hand[1].Hidden()                                           |\n",
      "|__________________________________________________________________________________|\n"
     ]
    }
   ],
   "source": [
    "onePlayerTable()"
   ]
  },
  {
   "cell_type": "code",
   "execution_count": 4,
   "metadata": {
    "collapsed": false
   },
   "outputs": [
    {
     "ename": "NameError",
     "evalue": "name 'self' is not defined",
     "output_type": "error",
     "traceback": [
      "\u001b[0;31m---------------------------------------------------------------------------\u001b[0m",
      "\u001b[0;31mNameError\u001b[0m                                 Traceback (most recent call last)",
      "\u001b[0;32m<ipython-input-4-de2d0a60f310>\u001b[0m in \u001b[0;36m<module>\u001b[0;34m()\u001b[0m\n\u001b[0;32m----> 1\u001b[0;31m \u001b[0monePlayerTable\u001b[0m\u001b[1;33m(\u001b[0m\u001b[0mself\u001b[0m\u001b[1;33m)\u001b[0m\u001b[1;33m\u001b[0m\u001b[0m\n\u001b[0m",
      "\u001b[0;31mNameError\u001b[0m: name 'self' is not defined"
     ]
    }
   ],
   "source": []
  },
  {
   "cell_type": "code",
   "execution_count": null,
   "metadata": {
    "collapsed": true
   },
   "outputs": [],
   "source": []
  },
  {
   "cell_type": "raw",
   "metadata": {},
   "source": []
  },
  {
   "cell_type": "code",
   "execution_count": 13,
   "metadata": {
    "collapsed": true
   },
   "outputs": [],
   "source": [
    "deck=[]"
   ]
  },
  {
   "cell_type": "code",
   "execution_count": 14,
   "metadata": {
    "collapsed": false
   },
   "outputs": [
    {
     "name": "stdout",
     "output_type": "stream",
     "text": [
      "New Card\n",
      "New Card\n",
      "New Card\n",
      "New Card\n",
      "New Card\n",
      "New Card\n",
      "New Card\n",
      "New Card\n",
      "New Card\n",
      "New Card\n",
      "New Card\n",
      "New Card\n",
      "New Card\n",
      "New Card\n",
      "New Card\n",
      "New Card\n",
      "New Card\n",
      "New Card\n",
      "New Card\n",
      "New Card\n",
      "New Card\n",
      "New Card\n",
      "New Card\n",
      "New Card\n",
      "New Card\n",
      "New Card\n",
      "New Card\n",
      "New Card\n",
      "New Card\n",
      "New Card\n",
      "New Card\n",
      "New Card\n",
      "New Card\n",
      "New Card\n",
      "New Card\n",
      "New Card\n",
      "New Card\n",
      "New Card\n",
      "New Card\n",
      "New Card\n",
      "New Card\n",
      "New Card\n",
      "New Card\n",
      "New Card\n",
      "New Card\n",
      "New Card\n",
      "New Card\n",
      "New Card\n",
      "New Card\n",
      "New Card\n",
      "New Card\n",
      "New Card\n"
     ]
    },
    {
     "ename": "TypeError",
     "evalue": "'builtin_function_or_method' object is not subscriptable",
     "output_type": "error",
     "traceback": [
      "\u001b[0;31m---------------------------------------------------------------------------\u001b[0m",
      "\u001b[0;31mTypeError\u001b[0m                                 Traceback (most recent call last)",
      "\u001b[0;32m<ipython-input-14-e6b306361d20>\u001b[0m in \u001b[0;36m<module>\u001b[0;34m()\u001b[0m\n\u001b[1;32m     15\u001b[0m     \u001b[0mdeck\u001b[0m\u001b[1;33m.\u001b[0m\u001b[0mappend\u001b[0m\u001b[1;33m(\u001b[0m\u001b[0mCard\u001b[0m\u001b[1;33m(\u001b[0m\u001b[0msuite\u001b[0m\u001b[1;33m=\u001b[0m\u001b[0msuiteName\u001b[0m\u001b[1;33m,\u001b[0m\u001b[0mcardName\u001b[0m\u001b[1;33m=\u001b[0m\u001b[1;34m'King'\u001b[0m\u001b[1;33m,\u001b[0m\u001b[0mcardValue\u001b[0m\u001b[1;33m=\u001b[0m\u001b[1;36m10\u001b[0m\u001b[1;33m,\u001b[0m\u001b[0mdealt\u001b[0m\u001b[1;33m=\u001b[0m\u001b[1;32mFalse\u001b[0m\u001b[1;33m)\u001b[0m\u001b[1;33m)\u001b[0m\u001b[1;33m\u001b[0m\u001b[0m\n\u001b[1;32m     16\u001b[0m \u001b[1;33m\u001b[0m\u001b[0m\n\u001b[0;32m---> 17\u001b[0;31m \u001b[0mprint\u001b[0m\u001b[1;33m[\u001b[0m\u001b[1;36m10\u001b[0m\u001b[1;33m]\u001b[0m\u001b[1;33m\u001b[0m\u001b[0m\n\u001b[0m",
      "\u001b[0;31mTypeError\u001b[0m: 'builtin_function_or_method' object is not subscriptable"
     ]
    }
   ],
   "source": [
    "\n",
    "for suiteName in ('Diamonds','Hearts','Spades','Clubs'):\n",
    "    deck.append(Card(suite=suiteName,cardName='Ace',cardValue=11,dealt=False))\n",
    "    deck.append(Card(suite=suiteName,cardName='Two',cardValue=2,dealt=False))\n",
    "    deck.append(Card(suite=suiteName,cardName='Three',cardValue=3,dealt=False))\n",
    "    deck.append(Card(suite=suiteName,cardName='Four',cardValue=4,dealt=False))\n",
    "    deck.append(Card(suite=suiteName,cardName='Five',cardValue=5,dealt=False))\n",
    "    deck.append(Card(suite=suiteName,cardName='Six',cardValue=6,dealt=False))\n",
    "    deck.append(Card(suite=suiteName,cardName='Seven',cardValue=7,dealt=False))\n",
    "    deck.append(Card(suite=suiteName,cardName='Eight',cardValue=8,dealt=False))\n",
    "    deck.append(Card(suite=suiteName,cardName='Nine',cardValue=9,dealt=False))\n",
    "    deck.append(Card(suite=suiteName,cardName='10',cardValue=3,dealt=False))\n",
    "    deck.append(Card(suite=suiteName,cardName='Jack',cardValue=10,dealt=False))\n",
    "    deck.append(Card(suite=suiteName,cardName='Queen',cardValue=10,dealt=False))\n",
    "    deck.append(Card(suite=suiteName,cardName='King',cardValue=10,dealt=False))\n",
    "    \n"
   ]
  },
  {
   "cell_type": "code",
   "execution_count": 15,
   "metadata": {
    "collapsed": false
   },
   "outputs": [
    {
     "ename": "TypeError",
     "evalue": "must be str, not bool",
     "output_type": "error",
     "traceback": [
      "\u001b[0;31m---------------------------------------------------------------------------\u001b[0m",
      "\u001b[0;31mTypeError\u001b[0m                                 Traceback (most recent call last)",
      "\u001b[0;32m<ipython-input-15-0578e292ed29>\u001b[0m in \u001b[0;36m<module>\u001b[0;34m()\u001b[0m\n\u001b[1;32m      1\u001b[0m \u001b[1;32mfor\u001b[0m \u001b[0mi\u001b[0m \u001b[1;32min\u001b[0m \u001b[0mrange\u001b[0m\u001b[1;33m(\u001b[0m\u001b[1;36m1\u001b[0m\u001b[1;33m,\u001b[0m\u001b[1;36m10\u001b[0m\u001b[1;33m)\u001b[0m\u001b[1;33m:\u001b[0m\u001b[1;33m\u001b[0m\u001b[0m\n\u001b[0;32m----> 2\u001b[0;31m     \u001b[0mprint\u001b[0m\u001b[1;33m(\u001b[0m\u001b[0mdeck\u001b[0m\u001b[1;33m[\u001b[0m\u001b[0mi\u001b[0m\u001b[1;33m]\u001b[0m\u001b[1;33m.\u001b[0m\u001b[0mgetSuite\u001b[0m\u001b[1;33m(\u001b[0m\u001b[1;33m)\u001b[0m\u001b[1;33m+\u001b[0m\u001b[1;34m' '\u001b[0m\u001b[1;33m+\u001b[0m\u001b[0mdeck\u001b[0m\u001b[1;33m[\u001b[0m\u001b[0mi\u001b[0m\u001b[1;33m]\u001b[0m\u001b[1;33m.\u001b[0m\u001b[0mgetCardName\u001b[0m\u001b[1;33m(\u001b[0m\u001b[1;33m)\u001b[0m\u001b[1;33m+\u001b[0m\u001b[1;34m' '\u001b[0m\u001b[1;33m+\u001b[0m\u001b[0mstr\u001b[0m\u001b[1;33m(\u001b[0m\u001b[0mdeck\u001b[0m\u001b[1;33m[\u001b[0m\u001b[0mi\u001b[0m\u001b[1;33m]\u001b[0m\u001b[1;33m.\u001b[0m\u001b[0mgetCardValue\u001b[0m\u001b[1;33m(\u001b[0m\u001b[1;33m)\u001b[0m\u001b[1;33m)\u001b[0m\u001b[1;33m+\u001b[0m\u001b[1;34m' '\u001b[0m \u001b[1;33m+\u001b[0m\u001b[0mdeck\u001b[0m\u001b[1;33m[\u001b[0m\u001b[0mi\u001b[0m\u001b[1;33m]\u001b[0m\u001b[1;33m.\u001b[0m\u001b[0mgetDealt\u001b[0m\u001b[1;33m(\u001b[0m\u001b[1;33m)\u001b[0m\u001b[1;33m)\u001b[0m\u001b[1;33m\u001b[0m\u001b[0m\n\u001b[0m",
      "\u001b[0;31mTypeError\u001b[0m: must be str, not bool"
     ]
    }
   ],
   "source": [
    "for i in range(1,10):\n",
    "    print(deck[i].getSuite()+' '+deck[i].getCardName()+' '+str(deck[i].getCardValue())+' ' +deck[i].getDealt())"
   ]
  },
  {
   "cell_type": "code",
   "execution_count": 12,
   "metadata": {
    "collapsed": false
   },
   "outputs": [
    {
     "data": {
      "text/plain": [
       "52"
      ]
     },
     "execution_count": 12,
     "metadata": {},
     "output_type": "execute_result"
    }
   ],
   "source": [
    "len(deck)"
   ]
  },
  {
   "cell_type": "code",
   "execution_count": 14,
   "metadata": {
    "collapsed": false
   },
   "outputs": [
    {
     "data": {
      "text/plain": [
       "<__main__.Card at 0x491c828>"
      ]
     },
     "execution_count": 14,
     "metadata": {},
     "output_type": "execute_result"
    }
   ],
   "source": [
    "deck[1]"
   ]
  },
  {
   "cell_type": "code",
   "execution_count": 24,
   "metadata": {
    "collapsed": false
   },
   "outputs": [
    {
     "name": "stdout",
     "output_type": "stream",
     "text": [
      "Diamonds Ace 11 False\n",
      "Diamonds Two 2 False\n",
      "Diamonds Three 3 False\n",
      "Diamonds Four 4 False\n",
      "Diamonds Five 5 False\n",
      "Diamonds Six 6 False\n",
      "Diamonds Seven 7 False\n",
      "Diamonds Eight 8 False\n",
      "Diamonds Nine 9 False\n",
      "Diamonds 10 3 False\n",
      "Diamonds Jack 10 False\n",
      "Diamonds Queen 10 False\n",
      "Diamonds King 10 False\n",
      "Hearts Ace 11 False\n",
      "Hearts Two 2 False\n",
      "Hearts Three 3 False\n",
      "Hearts Four 4 False\n",
      "Hearts Five 5 False\n",
      "Hearts Six 6 False\n",
      "Hearts Seven 7 False\n",
      "Hearts Eight 8 False\n",
      "Hearts Nine 9 False\n",
      "Hearts 10 3 False\n",
      "Hearts Jack 10 False\n",
      "Hearts Queen 10 False\n",
      "Hearts King 10 False\n",
      "Spades Ace 11 False\n",
      "Spades Two 2 False\n",
      "Spades Three 3 False\n",
      "Spades Four 4 False\n",
      "Spades Five 5 False\n",
      "Spades Six 6 False\n",
      "Spades Seven 7 False\n",
      "Spades Eight 8 False\n",
      "Spades Nine 9 False\n",
      "Spades 10 3 False\n",
      "Spades Jack 10 False\n",
      "Spades Queen 10 False\n",
      "Spades King 10 False\n",
      "Clubs Ace 11 False\n",
      "Clubs Two 2 False\n",
      "Clubs Three 3 False\n",
      "Clubs Four 4 False\n",
      "Clubs Five 5 False\n",
      "Clubs Six 6 False\n",
      "Clubs Seven 7 False\n",
      "Clubs Eight 8 False\n",
      "Clubs Nine 9 False\n",
      "Clubs 10 3 False\n",
      "Clubs Jack 10 False\n",
      "Clubs Queen 10 False\n",
      "Clubs King 10 False\n"
     ]
    }
   ],
   "source": [
    "for i in range(0,52):\n",
    "    print(deck[i].getSuite()+' '+deck[i].getCardName()+' '+str(deck[i].getCardValue())+' '+str(deck[i].getDealt()))"
   ]
  },
  {
   "cell_type": "code",
   "execution_count": 25,
   "metadata": {
    "collapsed": true
   },
   "outputs": [],
   "source": [
    "deck[51].setDealt(True)"
   ]
  },
  {
   "cell_type": "code",
   "execution_count": 26,
   "metadata": {
    "collapsed": false
   },
   "outputs": [
    {
     "name": "stdout",
     "output_type": "stream",
     "text": [
      "True\n"
     ]
    }
   ],
   "source": [
    "print(deck[51].getDealt())"
   ]
  },
  {
   "cell_type": "code",
   "execution_count": 28,
   "metadata": {
    "collapsed": false
   },
   "outputs": [
    {
     "name": "stdout",
     "output_type": "stream",
     "text": [
      "28\n"
     ]
    }
   ],
   "source": [
    "from random import randint\n",
    "print(randint(1,52))"
   ]
  },
  {
   "cell_type": "code",
   "execution_count": 30,
   "metadata": {
    "collapsed": false
   },
   "outputs": [
    {
     "name": "stdout",
     "output_type": "stream",
     "text": [
      "32\n"
     ]
    }
   ],
   "source": [
    "print(randint(1,52))"
   ]
  },
  {
   "cell_type": "code",
   "execution_count": 40,
   "metadata": {
    "collapsed": false
   },
   "outputs": [
    {
     "name": "stdout",
     "output_type": "stream",
     "text": [
      "Queen of Spades 10\n"
     ]
    }
   ],
   "source": [
    "x=randint(0,51)\n",
    "print(deck[x].getCardName()+' of '+deck[x].getSuite()+' '+str(deck[x].getCardValue()))"
   ]
  },
  {
   "cell_type": "markdown",
   "metadata": {},
   "source": [
    "## The Player class has: a hand=collection of cards\n",
    "##  Methods: hitMe() - new Card\n",
    "##                   checkForBust() = <=21\n",
    "##  "
   ]
  },
  {
   "cell_type": "code",
   "execution_count": 43,
   "metadata": {
    "collapsed": false
   },
   "outputs": [
    {
     "ename": "SyntaxError",
     "evalue": "invalid syntax (<ipython-input-43-de1bc29e6634>, line 20)",
     "output_type": "error",
     "traceback": [
      "\u001b[0;36m  File \u001b[0;32m\"<ipython-input-43-de1bc29e6634>\"\u001b[0;36m, line \u001b[0;32m20\u001b[0m\n\u001b[0;31m    self.playerStatus=\u001b[0m\n\u001b[0m                      ^\u001b[0m\n\u001b[0;31mSyntaxError\u001b[0m\u001b[0;31m:\u001b[0m invalid syntax\n"
     ]
    }
   ],
   "source": [
    "from random import randint\n",
    "\n",
    "#x=randint(1,51)-1\n",
    "\n",
    "class Player(object):\n",
    "    def __init__(self,hand,playerNumber,playerStatus='Alive'):\n",
    "        self.hand=hand\n",
    "        self.playerNumber=playerNumber\n",
    "        \n",
    "        \n",
    "        \n",
    "        \n",
    "    def getCardName(self):\n",
    "        return card.getCardName()\n",
    "    \n",
    "    def getPlayerNumber(self):\n",
    "        return playerNumber\n",
    "    \n",
    "       \n",
    "    def checkForBust(self,hand):\n",
    "        if(sum(self.hand)>21):\n",
    "            return self.playerStatus='Bust!!'\n",
    "        \n",
    "    \n",
    "        \n",
    "    \n",
    "    \n",
    "        \n",
    "        \n",
    "        \n",
    "        \n",
    "        "
   ]
  },
  {
   "cell_type": "code",
   "execution_count": null,
   "metadata": {
    "collapsed": true
   },
   "outputs": [],
   "source": [
    "classs Hand(object,playerCardList):\n",
    "    def __init(self,playerCardList):\n",
    "        self.playerCardList=playerCardList\n",
    "        \n",
    "        \n",
    "        \n",
    "        \n",
    "            \n",
    "    "
   ]
  },
  {
   "cell_type": "code",
   "execution_count": 37,
   "metadata": {
    "collapsed": true
   },
   "outputs": [],
   "source": [
    "list=[1,2,3]\n",
    "sumOfList=sum(list)"
   ]
  },
  {
   "cell_type": "code",
   "execution_count": 38,
   "metadata": {
    "collapsed": false
   },
   "outputs": [
    {
     "data": {
      "text/plain": [
       "6"
      ]
     },
     "execution_count": 38,
     "metadata": {},
     "output_type": "execute_result"
    }
   ],
   "source": [
    "sumOfList"
   ]
  },
  {
   "cell_type": "code",
   "execution_count": 33,
   "metadata": {
    "collapsed": false
   },
   "outputs": [],
   "source": [
    "from random import randint\n",
    "x=randint(1,52)\n",
    "player1=Player(card=deck[x].getCardName(),playerNumber=1)"
   ]
  },
  {
   "cell_type": "markdown",
   "metadata": {},
   "source": [
    "print(player1.getCardName())"
   ]
  },
  {
   "cell_type": "raw",
   "metadata": {},
   "source": []
  },
  {
   "cell_type": "raw",
   "metadata": {},
   "source": []
  },
  {
   "cell_type": "code",
   "execution_count": 34,
   "metadata": {
    "collapsed": false
   },
   "outputs": [
    {
     "ename": "NameError",
     "evalue": "name 'card' is not defined",
     "output_type": "error",
     "traceback": [
      "\u001b[0;31m---------------------------------------------------------------------------\u001b[0m",
      "\u001b[0;31mNameError\u001b[0m                                 Traceback (most recent call last)",
      "\u001b[0;32m<ipython-input-34-adef30e69600>\u001b[0m in \u001b[0;36m<module>\u001b[0;34m()\u001b[0m\n\u001b[0;32m----> 1\u001b[0;31m \u001b[0mprint\u001b[0m\u001b[1;33m(\u001b[0m\u001b[0mplayer1\u001b[0m\u001b[1;33m.\u001b[0m\u001b[0mgetCardName\u001b[0m\u001b[1;33m(\u001b[0m\u001b[1;33m)\u001b[0m\u001b[1;33m)\u001b[0m\u001b[1;33m\u001b[0m\u001b[0m\n\u001b[0m",
      "\u001b[0;32m<ipython-input-28-de0114216356>\u001b[0m in \u001b[0;36mgetCardName\u001b[0;34m(self)\u001b[0m\n\u001b[1;32m      8\u001b[0m         \u001b[0mself\u001b[0m\u001b[1;33m.\u001b[0m\u001b[0mplayerNumber\u001b[0m\u001b[1;33m=\u001b[0m\u001b[0mplayerNumber\u001b[0m\u001b[1;33m\u001b[0m\u001b[0m\n\u001b[1;32m      9\u001b[0m     \u001b[1;32mdef\u001b[0m \u001b[0mgetCardName\u001b[0m\u001b[1;33m(\u001b[0m\u001b[0mself\u001b[0m\u001b[1;33m)\u001b[0m\u001b[1;33m:\u001b[0m\u001b[1;33m\u001b[0m\u001b[0m\n\u001b[0;32m---> 10\u001b[0;31m         \u001b[1;32mreturn\u001b[0m \u001b[0mcard\u001b[0m\u001b[1;33m.\u001b[0m\u001b[0mgetCardName\u001b[0m\u001b[1;33m(\u001b[0m\u001b[1;33m)\u001b[0m\u001b[1;33m\u001b[0m\u001b[0m\n\u001b[0m\u001b[1;32m     11\u001b[0m \u001b[1;33m\u001b[0m\u001b[0m\n\u001b[1;32m     12\u001b[0m     \u001b[1;32mdef\u001b[0m \u001b[0mgetPlayerNumber\u001b[0m\u001b[1;33m(\u001b[0m\u001b[0mself\u001b[0m\u001b[1;33m)\u001b[0m\u001b[1;33m:\u001b[0m\u001b[1;33m\u001b[0m\u001b[0m\n",
      "\u001b[0;31mNameError\u001b[0m: name 'card' is not defined"
     ]
    }
   ],
   "source": [
    "print(player1.getCardName())\n"
   ]
  },
  {
   "cell_type": "code",
   "execution_count": 45,
   "metadata": {
    "collapsed": false
   },
   "outputs": [
    {
     "name": "stdout",
     "output_type": "stream",
     "text": [
      "27\n"
     ]
    }
   ],
   "source": [
    "from random import randint\n",
    "x=randint(0,51)\n",
    "print(x)"
   ]
  },
  {
   "cell_type": "code",
   "execution_count": 57,
   "metadata": {
    "collapsed": true
   },
   "outputs": [],
   "source": [
    "hand=[]"
   ]
  },
  {
   "cell_type": "code",
   "execution_count": 58,
   "metadata": {
    "collapsed": false
   },
   "outputs": [
    {
     "name": "stdout",
     "output_type": "stream",
     "text": [
      "Two of Spades value=2\n"
     ]
    },
    {
     "data": {
      "text/plain": [
       "9"
      ]
     },
     "execution_count": 58,
     "metadata": {},
     "output_type": "execute_result"
    }
   ],
   "source": [
    "print(deck[x].getCardName()+' of '+deck[x].getSuite()+' value='+str(deck[x].getCardValue()))\n",
    "hand.append(deck[x].getCardValue())\n",
    "9"
   ]
  },
  {
   "cell_type": "code",
   "execution_count": 59,
   "metadata": {
    "collapsed": false
   },
   "outputs": [
    {
     "data": {
      "text/plain": [
       "'Two'"
      ]
     },
     "execution_count": 59,
     "metadata": {},
     "output_type": "execute_result"
    }
   ],
   "source": [
    "deck[x].getCardName()"
   ]
  },
  {
   "cell_type": "code",
   "execution_count": 60,
   "metadata": {
    "collapsed": false
   },
   "outputs": [
    {
     "data": {
      "text/plain": [
       "2"
      ]
     },
     "execution_count": 60,
     "metadata": {},
     "output_type": "execute_result"
    }
   ],
   "source": [
    "deck[x].getCardValue()"
   ]
  },
  {
   "cell_type": "code",
   "execution_count": 76,
   "metadata": {
    "collapsed": true
   },
   "outputs": [],
   "source": [
    "hand=[]"
   ]
  },
  {
   "cell_type": "code",
   "execution_count": 83,
   "metadata": {
    "collapsed": true
   },
   "outputs": [],
   "source": [
    "hand.append(deck[0].getCardValue())"
   ]
  },
  {
   "cell_type": "code",
   "execution_count": 84,
   "metadata": {
    "collapsed": false
   },
   "outputs": [
    {
     "data": {
      "text/plain": [
       "3"
      ]
     },
     "execution_count": 84,
     "metadata": {},
     "output_type": "execute_result"
    }
   ],
   "source": [
    "len(hand)"
   ]
  },
  {
   "cell_type": "code",
   "execution_count": 71,
   "metadata": {
    "collapsed": false
   },
   "outputs": [
    {
     "data": {
      "text/plain": [
       "2"
      ]
     },
     "execution_count": 71,
     "metadata": {},
     "output_type": "execute_result"
    }
   ],
   "source": [
    "deck[x].getCardValue()"
   ]
  },
  {
   "cell_type": "code",
   "execution_count": 72,
   "metadata": {
    "collapsed": false
   },
   "outputs": [
    {
     "data": {
      "text/plain": [
       "3"
      ]
     },
     "execution_count": 72,
     "metadata": {},
     "output_type": "execute_result"
    }
   ],
   "source": [
    "deck[x+1].getCardValue()"
   ]
  },
  {
   "cell_type": "code",
   "execution_count": 85,
   "metadata": {
    "collapsed": false
   },
   "outputs": [
    {
     "data": {
      "text/plain": [
       "16"
      ]
     },
     "execution_count": 85,
     "metadata": {},
     "output_type": "execute_result"
    }
   ],
   "source": [
    "sum(hand)"
   ]
  },
  {
   "cell_type": "code",
   "execution_count": 82,
   "metadata": {
    "collapsed": false
   },
   "outputs": [],
   "source": [
    "player1=Player(deck[x],1)"
   ]
  },
  {
   "cell_type": "code",
   "execution_count": null,
   "metadata": {
    "collapsed": true
   },
   "outputs": [],
   "source": [
    "player1"
   ]
  }
 ],
 "metadata": {
  "anaconda-cloud": {},
  "kernelspec": {
   "display_name": "Python 3",
   "language": "python",
   "name": "python3"
  },
  "language_info": {
   "codemirror_mode": {
    "name": "ipython",
    "version": 3
   },
   "file_extension": ".py",
   "mimetype": "text/x-python",
   "name": "python",
   "nbconvert_exporter": "python",
   "pygments_lexer": "ipython3",
   "version": "3.6.0"
  }
 },
 "nbformat": 4,
 "nbformat_minor": 0
}
